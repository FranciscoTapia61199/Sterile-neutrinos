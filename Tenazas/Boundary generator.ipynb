{
 "cells": [
  {
   "cell_type": "markdown",
   "id": "04eb0a88",
   "metadata": {},
   "source": [
    "## (Before using the code, read the technical note attached to this repository to see in detail the formulas and values used for this plot!)"
   ]
  },
  {
   "cell_type": "markdown",
   "id": "14ba47e4",
   "metadata": {},
   "source": [
    "## Required libraries for the plot"
   ]
  },
  {
   "cell_type": "code",
   "execution_count": 1,
   "id": "46b2f4bf",
   "metadata": {},
   "outputs": [],
   "source": [
    "import numpy\n",
    "import pylab\n",
    "import matplotlib\n",
    "import matplotlib.pyplot as plt\n",
    "import cmath\n",
    "import random"
   ]
  },
  {
   "cell_type": "markdown",
   "id": "91b938ed",
   "metadata": {},
   "source": [
    "## Description of the generator"
   ]
  },
  {
   "cell_type": "markdown",
   "id": "1e1d80f0",
   "metadata": {},
   "source": [
    "This is basically a code which main function if to find min values, or more specifically, give back the specific mass configuration that gives a minimum value, it works like this.\n",
    "\n",
    "First, we need to pick the minimum value that or graph let us pick for the $m_{light}$, in this case $m_{light}=0.0001$, next, check the $\\langle{m_{ee}}\\rangle$ equation and extract each individual mass term in the form of ${m^{(1)}_{ee}}$, ${m^{(2)}_{ee}}$, ${m^{(3)}_{ee}}$, ${m^{(4)}_{ee}}$ (actually works for n masses, but we just keep it for 4 masses), but without including the $e^{i\\phi_{ij}}$ terms, because, as is mentioned in the technical note, the critical values for 3,4,5....n neutrinos are 0 and $\\pi$, but if we use those critical values on the $e^{i\\phi_{ij}}$ is basically adding and subtracting each mass term, so, we can list all possible combinations of addition and subtraction of ${m^{(i)}_{ee}}$ and each combination label it with a number (Details of how this was formulated on section 11 of the technical note.)\n",
    "\n",
    "Now that we have that mass values, since we fix an specific $m_{light}$, all the mass values we get would be also fix numbers, however, instead of just using fix numbers, the idea is the change the equation dependence to $m_{light}$, to another parameter, the frame parameter that applies only for the animation (details of the frame parameter in the technical note section 11.)\n",
    "\n",
    "We have all the pieces now, with the mass terms in terms of the frame value and all the possible mass combinations marked with an specific label, what this code do is basically, for each specific frame value return for which mass combination that frame value give a mimimun $\\langle{m_{ee}}\\rangle$ value, and based on the mass combination returned for specific frame values, that would be the specific values of $\\phi_{12}$, $\\phi_{13}$, $\\phi_{14}$ to get an inferior left boundary that contains all possible angles and keep an smooth transition."
   ]
  },
  {
   "cell_type": "code",
   "execution_count": 2,
   "id": "33b5ec79",
   "metadata": {},
   "outputs": [
    {
     "name": "stdout",
     "output_type": "stream",
     "text": [
      "[4. 4. 4. 4. 4. 3. 3. 3. 3. 6. 6. 6. 6. 1. 1. 1. 1. 1. 1. 1. 1. 1. 1. 1.\n",
      " 1. 1. 1. 1. 1. 1. 1. 1. 1. 1. 1. 1. 1. 1. 1. 1. 1. 1. 1. 1. 1. 1. 1. 1.\n",
      " 1. 1. 1. 1. 1. 1. 1. 1. 1. 1. 1. 1. 1. 1. 1. 1. 1. 1. 1. 1. 1. 1. 1. 1.\n",
      " 1. 1. 1. 1. 1. 1. 1. 1. 1. 1. 1. 1. 1. 1. 1. 1. 1. 1. 1. 1. 1. 1. 1. 1.\n",
      " 1. 1. 1. 1. 1.]\n"
     ]
    }
   ],
   "source": [
    "#Parameters used\n",
    "\n",
    "frame=numpy.linspace(0,100,101)\n",
    "\n",
    "NHs12=0.307\n",
    "NHs13=0.022\n",
    "NHc12=1-NHs12\n",
    "NHc13=1-NHs13\n",
    "NHs14=0.023*(frame/100)\n",
    "NHc14=1-NHs14\n",
    "\n",
    "solarmass=0.0000753\n",
    "atmmass=0.0025283\n",
    "LSNDmass=1.78\n",
    "\n",
    "#Mass terms in terms of the frame \n",
    "\n",
    "NHm1=0.0001\n",
    "NHm2=(NHm1**2+solarmass)**(1/2)\n",
    "NHm3=(NHm1**2+atmmass)**(1/2)\n",
    "NHm4=(NHm1**2+LSNDmass)**(1/2)\n",
    "\n",
    "m1=NHc12*NHc13*NHc14*NHm1\n",
    "m2=NHs12*NHc13*NHc14*NHm2\n",
    "m3=NHs13*NHc14*NHm3\n",
    "m4=NHs14*NHm4\n",
    "\n",
    "#Mass combinations and labels \n",
    "\n",
    "NHmee10=abs(m1 + m2 + m3 + m4)\n",
    "NHmee11=abs(m1 + m2 + m3 - m4)\n",
    "NHmee12=abs(m1 + m2 - m3 + m4)\n",
    "NHmee13=abs(m1 + m2 - m3 - m4)\n",
    "NHmee14=abs(m1 - m2 + m3 + m4)\n",
    "NHmee15=abs(m1 - m2 + m3 - m4)\n",
    "NHmee16=abs(m1 - m2 - m3 + m4)\n",
    "NHmee17=abs(m1 - m2 - m3 - m4)\n",
    "\n",
    "#Array that stores each value for each mass combination and returns the mass combination that gives the minimun value of all\n",
    "#combinations (It will return a number from 0-7, that will match with the last number of each label of the mass combinations\n",
    "# for example, if the code returns 5, then, the minimum value is at NHmee15)\n",
    "\n",
    "arr=numpy.array([NHmee10, NHmee11, NHmee12, NHmee13, NHmee14, NHmee15, NHmee16, NHmee17])\n",
    "tarr=arr.T\n",
    "minframe=numpy.array([])\n",
    "for i in range(0,101):\n",
    "    minframe=numpy.append(minframe, numpy.argmin(tarr[i,:]))\n",
    "print(minframe)"
   ]
  },
  {
   "cell_type": "code",
   "execution_count": 4,
   "id": "8d402347",
   "metadata": {},
   "outputs": [
    {
     "data": {
      "image/png": "[encoded data removed]",
      "text/plain": [
       "<Figure size 432x288 with 1 Axes>"
      ]
     },
     "metadata": {
      "needs_background": "light"
     },
     "output_type": "display_data"
    }
   ],
   "source": [
    "#This plot was just to see the behavior of how the boundaries change with respect of the frame, just a curiosity, not necessary \n",
    "#to run this part\n",
    "\n",
    "plt.figure()\n",
    "plt.plot(frame,minframe,color=\"blue\",linestyle=\"-\",linewidth=1, alpha=1)\n",
    "plt.show()"
   ]
  }
 ],
 "metadata": {
  "kernelspec": {
   "display_name": "Python 3 (ipykernel)",
   "language": "python",
   "name": "python3"
  },
  "language_info": {
   "codemirror_mode": {
    "name": "ipython",
    "version": 3
   },
   "file_extension": ".py",
   "mimetype": "text/x-python",
   "name": "python",
   "nbconvert_exporter": "python",
   "pygments_lexer": "ipython3",
   "version": "3.9.7"
  }
 },
 "nbformat": 4,
 "nbformat_minor": 5
}
