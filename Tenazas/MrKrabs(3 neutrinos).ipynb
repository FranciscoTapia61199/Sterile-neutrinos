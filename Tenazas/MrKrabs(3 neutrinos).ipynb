{
 "cells": [
  {
   "cell_type": "markdown",
   "id": "64bd2ff2",
   "metadata": {},
   "source": [
    "## (Before using the code, read the technical note attached to this repository to see in detail the formulas and values used for this plot!)"
   ]
  },
  {
   "cell_type": "markdown",
   "id": "8c24a9d5",
   "metadata": {},
   "source": [
    "## Required libraries for the plot"
   ]
  },
  {
   "cell_type": "code",
   "execution_count": 2,
   "id": "4623244b",
   "metadata": {},
   "outputs": [],
   "source": [
    "import numpy\n",
    "import pylab\n",
    "import matplotlib\n",
    "import matplotlib.pyplot as plt\n",
    "%matplotlib inline\n",
    "import cmath\n",
    "import random"
   ]
  },
  {
   "cell_type": "markdown",
   "id": "29cf0a9a",
   "metadata": {},
   "source": [
    "## Random angle generator in a range from 0 to 2$\\pi$"
   ]
  },
  {
   "cell_type": "markdown",
   "id": "28cf6300",
   "metadata": {},
   "source": [
    "The purpose of this part is to generate random angles to see how the plot behaves taking in consideration that the plot is a $\\langle{m_{ee}}\\rangle$ vs $m_{light}$, so it will show only a curve, but if we include the different random angle combinations, all the curves will combine until it turns into the actual plot with all possible angle variations \n",
    "\n",
    "(Note: this is just to check that the angles are inside certain specific boundaries, running 1000 samples will take a lot of time to run, or the code itself would not run due to the quantity of samples, and after locate the boundaries the plots made by this method and its code will be removed)  "
   ]
  },
  {
   "cell_type": "code",
   "execution_count": 4,
   "id": "5b8d3a28",
   "metadata": {},
   "outputs": [],
   "source": [
    "#Angles\n",
    "A=numpy.array([])\n",
    "B=numpy.array([])\n",
    "for i in range (0,1000):\n",
    "    Alpha12=random.uniform(0, 2*numpy.pi)\n",
    "    Alpha13=random.uniform(0, 2*numpy.pi)\n",
    "    if Alpha12 not in A: \n",
    "        A=numpy.append(A, Alpha12)\n",
    "    if Alpha13 not in B: \n",
    "        B=numpy.append(B, Alpha13)"
   ]
  },
  {
   "cell_type": "markdown",
   "id": "8b2ee34d",
   "metadata": {},
   "source": [
    "## Parameters and mass equations used"
   ]
  },
  {
   "cell_type": "markdown",
   "id": "0690984e",
   "metadata": {},
   "source": [
    "The parameters and fixed values are listed here separated in NH and IH parameters, same situation for the mass equations (equation 7 at the technical note), for the NH all the mass equations are in terms of $m_1$ and for the IH, in terms of $m_3$, here are not only listed the best fit values, there are also listed the +3/-3 $\\sigma$ values for all the masses to get not only the best fit value plot, but also including the uncertainties for the plot "
   ]
  },
  {
   "cell_type": "code",
   "execution_count": 6,
   "id": "539d8aac",
   "metadata": {},
   "outputs": [],
   "source": [
    "#Normal hierarchy parameters (Best Fit)\n",
    "\n",
    "NHs12=0.307\n",
    "NHs13=0.022\n",
    "NHc12=0.693\n",
    "NHc13=0.978\n",
    "\n",
    "solarmass=0.0000753\n",
    "atmmass=0.0025283\n",
    "\n",
    "#Normal hierarchy parameters (3 sigma)\n",
    "\n",
    "maxNHs12=0.346\n",
    "minNHs12=0.268\n",
    "\n",
    "maxNHs13=0.0241\n",
    "minNHs13=0.0199\n",
    "\n",
    "maxNHc12=0.732\n",
    "minNHc12=0.654\n",
    "\n",
    "maxNHc13=0.9801\n",
    "minNHc13=0.9759\n",
    "\n",
    "maxsolarmass=0.0000807\n",
    "minsolarmass=0.0000699\n",
    "\n",
    "maxatmmass=0.0025631\n",
    "minatmmass=0.0024935\n",
    "\n",
    "NHm1=numpy.linspace(0.0001,0.001,2000) \n",
    "NHm1=numpy.append(NHm1, numpy.linspace(0.001,0.01,2000))\n",
    "NHm1=numpy.append(NHm1, numpy.linspace(0.01,0.1,2000))\n",
    "NHm1=numpy.append(NHm1, numpy.linspace(0.1,1,2000))\n",
    "NHm1=numpy.append(NHm1, numpy.linspace(1,10,2000))\n",
    "\n",
    "maxNHm2=(NHm1**2+maxsolarmass)**(1/2)\n",
    "NHm2=(NHm1**2+solarmass)**(1/2)\n",
    "minNHm2=(NHm1**2+minsolarmass)**(1/2)\n",
    "\n",
    "maxNHm3=(NHm1**2+maxatmmass)**(1/2)\n",
    "NHm3=(NHm1**2+atmmass)**(1/2)\n",
    "minNHm3=(NHm1**2+minatmmass)**(1/2)\n",
    "\n",
    "#solarmass=del_m21^2\n",
    "#atmmass=del_m31^2"
   ]
  },
  {
   "cell_type": "code",
   "execution_count": 8,
   "id": "f69d4b7e",
   "metadata": {},
   "outputs": [],
   "source": [
    "#Inverted Hierarchy parameters (Best Fit)\n",
    "\n",
    "IHs12=0.307\n",
    "IHs13=0.022\n",
    "IHc12=0.693\n",
    "IHc13=0.978\n",
    "\n",
    "Isolarmass=0.0000753\n",
    "Iatmmass=0.002536\n",
    "\n",
    "#Inverted hierarchy parameters (3 sigma)\n",
    "\n",
    "maxIHs12=0.346\n",
    "minIHs12=0.268\n",
    "\n",
    "maxIHs13=0.0241\n",
    "minIHs13=0.0199\n",
    "\n",
    "maxIHc12=0.732\n",
    "minIHc12=0.654\n",
    "\n",
    "maxIHc13=0.9801\n",
    "minIHc13=0.9759\n",
    "\n",
    "maxIsolarmass=0.0000807\n",
    "minIsolarmass=0.0000699\n",
    "\n",
    "maxIatmmass=0.002638\n",
    "minIatmmass=0.002434\n",
    "\n",
    "IHm3=numpy.linspace(0.0001,0.001,2000) \n",
    "IHm3=numpy.append(IHm3, numpy.linspace(0.001,0.01,2000))\n",
    "IHm3=numpy.append(IHm3, numpy.linspace(0.01,0.1,2000))\n",
    "IHm3=numpy.append(IHm3, numpy.linspace(0.1,1,2000))\n",
    "IHm3=numpy.append(IHm3, numpy.linspace(1,10,2000))\n",
    "\n",
    "maxIHm2=(IHm3**2+maxIsolarmass+maxIatmmass)**(1/2)\n",
    "IHm2=(IHm3**2+Isolarmass+Iatmmass)**(1/2)\n",
    "minIHm2=(IHm3**2+minIsolarmass+minIatmmass)**(1/2)\n",
    "\n",
    "maxIHm1=(IHm3**2+maxIatmmass)**(1/2)\n",
    "IHm1=(IHm3**2+Iatmmass)**(1/2)\n",
    "minIHm1=(IHm3**2+minIatmmass)**(1/2)\n",
    "\n",
    "#solarmass=del_m21^2\n",
    "#atmmass=del_m31^2"
   ]
  },
  {
   "cell_type": "markdown",
   "id": "9d2b1134",
   "metadata": {},
   "source": [
    "## Plot generator"
   ]
  },
  {
   "cell_type": "markdown",
   "id": "e5d9d029",
   "metadata": {},
   "source": [
    "This is the most important part of the code, on this cell is located the original $\\langle{m_{ee}}\\rangle$ formula and is written in terms of $m_{light}$ that is $m_{1}$ for NH and $m_{3}$ for IH, since there are infinite many possible combinations of parameters $\\phi_{12}$ and $\\phi_{13}$ (equation 6 of the technical note), instead of running a code with infinite many curves, the code will just plug the curves that will bound all the possible angle combinations and fill the space between each curve to optimize compilation time and computer resources, the angles that created the boundaries were calculated previously using an optimization method (details and other equations used are located at the technical note)  however, for a quick test, it is included a loop that will plot 1000 samples of the random generated angles to make sure the boundaries were chosen properly  "
   ]
  },
  {
   "cell_type": "code",
   "execution_count": 10,
   "id": "488e6917",
   "metadata": {},
   "outputs": [
    {
     "data": {
      "image/png": "[encoded data removed]",
      "text/plain": [
       "<Figure size 648x432 with 1 Axes>"
      ]
     },
     "metadata": {
      "needs_background": "light"
     },
     "output_type": "display_data"
    }
   ],
   "source": [
    "plt.figure(figsize=(9,6))\n",
    "\n",
    "#for i in range(0,1000):\n",
    "#    IHm3=numpy.linspace(0,1,10000)\n",
    "#    IHmee=abs(IHc12*IHc13*IHm1 + IHs12*IHc13*IHm2*cmath.exp(complex(0,A[i])) + IHs13*IHm3*cmath.exp(complex(0,B[i])))\n",
    "\n",
    "#    plt.plot(IHm3,IHmee,color=\"yellow\",linestyle=\"-\",linewidth=1, alpha=1)\n",
    "    \n",
    "\n",
    "maxIHmee1=abs(minIHc12*minIHc13*maxIHm1 + maxIHs12*minIHc13*maxIHm2 + maxIHs13*IHm3)\n",
    "IHmee1=abs(IHc12*IHc13*IHm1 + IHs12*IHc13*IHm2 + IHs13*IHm3) #All masses different, both angles=0\n",
    "minIHmee1=abs(maxIHc12*maxIHc13*minIHm1 + minIHs12*maxIHc13*minIHm2 + minIHs13*IHm3)\n",
    "\n",
    "maxIHmee2=abs(minIHc12*minIHc13*maxIHm1 - maxIHs12*minIHc13*maxIHm2 - maxIHs13*IHm3)\n",
    "IHmee2=abs(IHc12*IHc13*IHm1 - IHs12*IHc13*IHm2 - IHs13*IHm3) #All masses different, both angles=pi\n",
    "minIHmee2=abs(maxIHc12*maxIHc13*minIHm1 - minIHs12*maxIHc13*minIHm2 - minIHs13*IHm3)\n",
    "\n",
    "#plt.plot(IHm3,maxIHmee1,color=\"black\",linestyle=\"-\",linewidth=1, alpha=0.5)\n",
    "#plt.plot(IHm3,IHmee1,color=\"black\",linestyle=\"-\",linewidth=1, alpha=1)\n",
    "#plt.plot(IHm3,minIHmee1,color=\"black\",linestyle=\"-\",linewidth=1, alpha=0.5)\n",
    "\n",
    "#plt.plot(IHm3,maxIHmee2,color=\"red\",linestyle=\"-\",linewidth=1, alpha=0.5)\n",
    "#plt.plot(IHm3,IHmee2,color=\"gray\",linestyle=\"-\",linewidth=1, alpha=1)\n",
    "#plt.plot(IHm3,minIHmee2,color=\"red\",linestyle=\"-\",linewidth=1, alpha=0.5)\n",
    "\n",
    "plt.fill_between(IHm3, maxIHmee1, maxIHmee2, color=\"orange\",label=\"+3$\\sigma$ IH\")\n",
    "\n",
    "plt.fill_between(IHm3, minIHmee1, minIHmee2, color=\"red\",label=\"-3$\\sigma$ IH\")\n",
    "\n",
    "plt.fill_between(IHm3, IHmee1, IHmee2, color=\"yellow\", label=\"Best fit IH\")\n",
    "\n",
    "\n",
    "#for i in range(0,1000):\n",
    "#    NHm1=numpy.linspace(0,1,10000)\n",
    "#    NHmee=abs(NHc12*NHc13*NHm1 + NHs12*NHc13*NHm2*cmath.exp(complex(0,A[i])) + NHs13*NHm3*cmath.exp(complex(0,B[i])))\n",
    "\n",
    "#    plt.plot(NHm1,NHmee,color=\"blue\",linestyle=\"-\",linewidth=1, alpha=1)\n",
    "    \n",
    "maxNHmee1=abs(minNHc12*minNHc13*NHm1 - maxNHs12*minNHc13*maxNHm2 + maxNHs13*maxNHm3)    \n",
    "NHmee1=abs(NHc12*NHc13*NHm1 - NHs12*NHc13*NHm2 + NHs13*NHm3) #All masses different, first angle=pi, second angle=0\n",
    "minNHmee1=abs(maxNHc12*maxNHc13*NHm1 - minNHs12*maxNHc13*minNHm2 + minNHs13*minNHm3)\n",
    "\n",
    "maxNHmee2=abs(minNHc12*minNHc13*NHm1 + maxNHs12*minNHc13*maxNHm2 + maxNHs13*maxNHm3)\n",
    "NHmee2=abs(NHc12*NHc13*NHm1 + NHs12*NHc13*NHm2 + NHs13*NHm3) #All masses different, both angles=0\n",
    "minNHmee2=abs(maxNHc12*maxNHc13*NHm1 + minNHs12*maxNHc13*minNHm2 + minNHs13*minNHm3)\n",
    "\n",
    "maxNHmee3=abs(minNHc12*minNHc13*NHm1 - maxNHs12*minNHc13*maxNHm2 - maxNHs13*maxNHm3)\n",
    "NHmee3=abs(NHc12*NHc13*NHm1 - NHs12*NHc13*NHm2 - NHs13*NHm3) #All masses different, both angles=pi\n",
    "minNHmee3=abs(maxNHc12*maxNHc13*NHm1 - minNHs12*maxNHc13*minNHm2 - minNHs13*minNHm3)\n",
    "\n",
    "#plt.plot(NHm1,maxNHmee1,color=\"gray\",linestyle=\"-\",linewidth=1, alpha=1)\n",
    "#plt.plot(NHm1,NHmee1,color=\"gray\", linestyle=\"-\",linewidth=1, alpha=1)\n",
    "#plt.plot(NHm1,minNHmee1,color=\"gray\",linestyle=\"-\",linewidth=1, alpha=0.5)\n",
    "\n",
    "#plt.plot(NHm1,maxNHmee2,color=\"black\",linestyle=\"-\",linewidth=1, alpha=1)\n",
    "#plt.plot(NHm1,NHmee2,color=\"black\",linestyle=\"-\",linewidth=1, alpha=1)\n",
    "#plt.plot(NHm1,minNHmee2,color=\"black\",linestyle=\"-\",linewidth=1, alpha=0.5)\n",
    "\n",
    "#plt.plot(NHm1,maxNHmee3,color=\"pink\",linestyle=\"-\",linewidth=1, alpha=1)\n",
    "#plt.plot(NHm1,NHmee3,color=\"red\",linestyle=\"-\",linewidth=1, alpha=1)\n",
    "#plt.plot(NHm1,minNHmee3,color=\"red\",linestyle=\"-\",linewidth=1, alpha=0.5)\n",
    "\n",
    "plt.fill_between(NHm1, maxNHmee1, maxNHmee2, color=\"slateblue\",label=\"+3$\\sigma$ NH\")\n",
    "plt.fill_between(NHm1, maxNHmee2, maxNHmee3, color=\"slateblue\")\n",
    "plt.fill_between(NHm1, maxNHmee1, 0,where=(NHm1<0.0084)&(NHm1>0.003), color=\"slateblue\", alpha=1)\n",
    "\n",
    "plt.fill_between(NHm1, minNHmee1, minNHmee2, color=\"navy\", label=\"-3$\\sigma$ NH\")\n",
    "plt.fill_between(NHm1, minNHmee2, minNHmee3, color=\"navy\")\n",
    "plt.fill_between(NHm1, minNHmee1, 0,where=(NHm1<0.005)&(NHm1>0.0019), color=\"navy\", alpha=1)\n",
    "\n",
    "plt.fill_between(NHm1, NHmee1, NHmee2, color=\"blue\",label=\"Best Fit NH\")\n",
    "plt.fill_between(NHm1, NHmee2, NHmee3, color=\"blue\", alpha=1)\n",
    "plt.fill_between(NHm1, NHmee1, 0,where=(NHm1<0.0064)&(NHm1>0.0025), color=\"blue\", alpha=1)\n",
    "\n",
    "plt.xscale(\"log\")\n",
    "plt.yscale(\"log\")\n",
    "\n",
    "plt.xlim(0.0001,10)\n",
    "plt.ylim(0.0001,10)\n",
    "plt.tight_layout()\n",
    "plt.xlabel(\"$m_{light}$ in eV\",fontsize=16)\n",
    "plt.ylabel(\"$m_{ee}$ in eV\",fontsize=16)\n",
    "plt.legend(fontsize=10,loc=2)\n",
    "plt.savefig('Lobster plot 3 neutrinos.png')\n",
    "plt.show()\n"
   ]
  },
  {
   "cell_type": "code",
   "execution_count": 7,
   "id": "553d5373",
   "metadata": {},
   "outputs": [],
   "source": [
    "#print(plt.rcParams[\"figure.figsize\"])"
   ]
  },
  {
   "cell_type": "code",
   "execution_count": 8,
   "id": "4ca716c1",
   "metadata": {},
   "outputs": [
    {
     "data": {
      "text/plain": [
       "<Figure size 432x288 with 0 Axes>"
      ]
     },
     "metadata": {},
     "output_type": "display_data"
    }
   ],
   "source": []
  },
  {
   "cell_type": "code",
   "execution_count": null,
   "id": "d9660ce2",
   "metadata": {},
   "outputs": [],
   "source": []
  }
 ],
 "metadata": {
  "kernelspec": {
   "display_name": "Python 3 (ipykernel)",
   "language": "python",
   "name": "python3"
  },
  "language_info": {
   "codemirror_mode": {
    "name": "ipython",
    "version": 3
   },
   "file_extension": ".py",
   "mimetype": "text/x-python",
   "name": "python",
   "nbconvert_exporter": "python",
   "pygments_lexer": "ipython3",
   "version": "3.9.7"
  }
 },
 "nbformat": 4,
 "nbformat_minor": 5
}
