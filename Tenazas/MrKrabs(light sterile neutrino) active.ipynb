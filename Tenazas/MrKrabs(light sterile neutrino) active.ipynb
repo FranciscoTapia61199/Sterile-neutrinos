{
 "cells": [
  {
   "cell_type": "markdown",
   "id": "de23b2a7",
   "metadata": {},
   "source": [
    "## (Before using the code, read the technical note attached to this repository to see in detail the formulas and values used for this plot!)"
   ]
  },
  {
   "cell_type": "markdown",
   "id": "60d8d5c0",
   "metadata": {},
   "source": [
    "## Required libraries for the plot"
   ]
  },
  {
   "cell_type": "code",
   "execution_count": 1,
   "id": "afca4e1e",
   "metadata": {},
   "outputs": [],
   "source": [
    "import numpy\n",
    "import pylab\n",
    "import matplotlib\n",
    "import matplotlib.pyplot as plt\n",
    "%matplotlib inline\n",
    "import cmath\n",
    "import random"
   ]
  },
  {
   "cell_type": "markdown",
   "id": "6a8c3b89",
   "metadata": {},
   "source": [
    "## Parameters and mass equations used"
   ]
  },
  {
   "cell_type": "markdown",
   "id": "8488daac",
   "metadata": {},
   "source": [
    "The parameters and fixed values are listed here separated in NH and IH parameters, same situation for the mass equations (equation 9 at the technical note), for the NH all the mass equations are in terms of $m_1$ and for the IH, in terms of $m_3$, here are not only listed the best fit values, there are also listed the +3/-3 $\\sigma$ values for all the masses to get not only the best fit value plot, but also including the uncertainties for the plot.\n",
    "\n",
    "Note, for this case instead of using $m_4$ as $m_{light}$ for NH and IH cases, we are going to use again $m_1$ and $m_3$ for NH and IH respectively for experimental purposes. (More details at the technical note.) "
   ]
  },
  {
   "cell_type": "code",
   "execution_count": 3,
   "id": "c34687a5",
   "metadata": {},
   "outputs": [
    {
     "name": "stderr",
     "output_type": "stream",
     "text": [
      "C:\\Users\\pacoh\\AppData\\Local\\Temp/ipykernel_21364/1519665781.py:64: RuntimeWarning: invalid value encountered in sqrt\n",
      "  maxNHm4=(NHm1**2-minLSNDmass)**(1/2)\n",
      "C:\\Users\\pacoh\\AppData\\Local\\Temp/ipykernel_21364/1519665781.py:65: RuntimeWarning: invalid value encountered in sqrt\n",
      "  NHm4=(NHm1**2-LSNDmass)**(1/2)\n",
      "C:\\Users\\pacoh\\AppData\\Local\\Temp/ipykernel_21364/1519665781.py:66: RuntimeWarning: invalid value encountered in sqrt\n",
      "  minNHm4=(NHm1**2-maxLSNDmass)**(1/2)\n"
     ]
    }
   ],
   "source": [
    "#Normal hierarchy parameters (Best Fit)\n",
    "\n",
    "NHs12=0.307\n",
    "NHs13=0.022\n",
    "NHc12=0.693\n",
    "NHc13=0.978\n",
    "NHs14=0.023\n",
    "NHc14=0.977\n",
    "\n",
    "#NHs14=0\n",
    "#NHc14=1\n",
    "\n",
    "solarmass=0.0000753\n",
    "atmmass=0.0025283\n",
    "LSNDmass=1.78\n",
    "#LSNDmass=0\n",
    "\n",
    "#solarmass=del_m21^2\n",
    "#atmmass=del_m31^2\n",
    "\n",
    "#Normal hierarchy parameters (3 sigma)\n",
    "\n",
    "maxNHs12=0.346\n",
    "minNHs12=0.268\n",
    "\n",
    "maxNHs13=0.0241\n",
    "minNHs13=0.0199\n",
    "\n",
    "maxNHc12=0.732\n",
    "minNHc12=0.654\n",
    "\n",
    "maxNHc13=0.9801\n",
    "minNHc13=0.9759\n",
    "\n",
    "maxNHs14=0.04\n",
    "minNHs14=0.006\n",
    "\n",
    "maxNHc14=0.994\n",
    "minNHc14=0.96\n",
    "\n",
    "maxsolarmass=0.0000807\n",
    "minsolarmass=0.0000699\n",
    "\n",
    "maxatmmass=0.0025631\n",
    "minatmmass=0.0024935\n",
    "\n",
    "maxLSNDmass=2.01\n",
    "minLSNDmass=1.61\n",
    "\n",
    "NHm1=numpy.linspace(0.0001,0.001,2000) \n",
    "NHm1=numpy.append(NHm1, numpy.linspace(0.001,0.01,2000))\n",
    "NHm1=numpy.append(NHm1, numpy.linspace(0.01,0.1,2000))\n",
    "NHm1=numpy.append(NHm1, numpy.linspace(0.1,1,2000))\n",
    "NHm1=numpy.append(NHm1, numpy.linspace(1,10,2000))\n",
    "\n",
    "maxNHm2=(NHm1**2+maxsolarmass)**(1/2)\n",
    "NHm2=(NHm1**2+solarmass)**(1/2)\n",
    "minNHm2=(NHm1**2+minsolarmass)**(1/2)\n",
    "\n",
    "maxNHm3=(NHm1**2+maxatmmass)**(1/2)\n",
    "NHm3=(NHm1**2+atmmass)**(1/2)\n",
    "minNHm3=(NHm1**2+minatmmass)**(1/2)\n",
    "\n",
    "maxNHm4=(NHm1**2-minLSNDmass)**(1/2)\n",
    "NHm4=(NHm1**2-LSNDmass)**(1/2)\n",
    "minNHm4=(NHm1**2-maxLSNDmass)**(1/2)"
   ]
  },
  {
   "cell_type": "code",
   "execution_count": 4,
   "id": "30c3961d",
   "metadata": {},
   "outputs": [
    {
     "name": "stderr",
     "output_type": "stream",
     "text": [
      "C:\\Users\\pacoh\\AppData\\Local\\Temp/ipykernel_21364/3457129879.py:62: RuntimeWarning: invalid value encountered in sqrt\n",
      "  maxIHm4=(IHm3**2-minILSNDmass+maxIatmmass)**(1/2)\n",
      "C:\\Users\\pacoh\\AppData\\Local\\Temp/ipykernel_21364/3457129879.py:63: RuntimeWarning: invalid value encountered in sqrt\n",
      "  IHm4=(IHm3**2-ILSNDmass+Iatmmass)**(1/2)\n",
      "C:\\Users\\pacoh\\AppData\\Local\\Temp/ipykernel_21364/3457129879.py:64: RuntimeWarning: invalid value encountered in sqrt\n",
      "  minIHm4=(IHm3**2-maxILSNDmass+minIatmmass)**(1/2)\n"
     ]
    }
   ],
   "source": [
    "#Inverted Hierarchy parameters (Best Fit)\n",
    "\n",
    "IHs12=0.307\n",
    "IHs13=0.022\n",
    "IHc12=0.693\n",
    "IHc13=0.978\n",
    "IHs14=0.023\n",
    "IHc14=0.977\n",
    "\n",
    "#IHs14=0\n",
    "#IHc14=1\n",
    "\n",
    "Isolarmass=0.0000753\n",
    "Iatmmass=0.002536\n",
    "ILSNDmass=1.78\n",
    "\n",
    "#Inverted Hierarchy parameters (3 sigma)\n",
    "\n",
    "maxIHs12=0.346\n",
    "minIHs12=0.268\n",
    "\n",
    "maxIHs13=0.0241\n",
    "minIHs13=0.0199\n",
    "\n",
    "maxIHc12=0.732\n",
    "minIHc12=0.654\n",
    "\n",
    "maxIHc13=0.9801\n",
    "minIHc13=0.9759\n",
    "\n",
    "maxIHs14=0.04\n",
    "minIHs14=0.006\n",
    "\n",
    "maxIHc14=0.994\n",
    "minIHc14=0.96\n",
    "\n",
    "maxIsolarmass=0.0000807\n",
    "minIsolarmass=0.0000699\n",
    "\n",
    "maxIatmmass=0.002638\n",
    "minIatmmass=0.002434\n",
    "\n",
    "maxILSNDmass=2.01\n",
    "minILSNDmass=1.61\n",
    "\n",
    "\n",
    "\n",
    "IHm3=numpy.linspace(0.0001,0.001,2000) \n",
    "IHm3=numpy.append(IHm3, numpy.linspace(0.001,0.01,2000))\n",
    "IHm3=numpy.append(IHm3, numpy.linspace(0.01,0.1,2000))\n",
    "IHm3=numpy.append(IHm3, numpy.linspace(0.1,1,2000))\n",
    "IHm3=numpy.append(IHm3, numpy.linspace(1,10,2000))\n",
    "\n",
    "maxIHm2=(IHm3**2+maxIsolarmass+maxIatmmass)**(1/2)\n",
    "IHm2=(IHm3**2+Isolarmass+Iatmmass)**(1/2)\n",
    "minIHm2=(IHm3**2+minIsolarmass+minIatmmass)**(1/2)\n",
    "\n",
    "maxIHm1=(IHm3**2+maxIatmmass)**(1/2)\n",
    "IHm1=(IHm3**2+Iatmmass)**(1/2)\n",
    "minIHm1=(IHm3**2+minIatmmass)**(1/2)\n",
    "\n",
    "maxIHm4=(IHm3**2-minILSNDmass+maxIatmmass)**(1/2)\n",
    "IHm4=(IHm3**2-ILSNDmass+Iatmmass)**(1/2)\n",
    "minIHm4=(IHm3**2-maxILSNDmass+minIatmmass)**(1/2)\n",
    "\n",
    "#solarmass=del_m21^2\n",
    "#atmmass=del_m31^2"
   ]
  },
  {
   "cell_type": "markdown",
   "id": "f08a2332",
   "metadata": {},
   "source": [
    "## Lobster plot 3 neutrinos for comparison purposes"
   ]
  },
  {
   "cell_type": "markdown",
   "id": "a0ee02ff",
   "metadata": {},
   "source": [
    "This cell generates a plot for 3 neutrinos to compare it with the plots of 3+1 neutrinos."
   ]
  },
  {
   "cell_type": "code",
   "execution_count": 6,
   "id": "beb39266",
   "metadata": {},
   "outputs": [],
   "source": [
    "NHm111=numpy.linspace(0.0001,0.001,2000) \n",
    "NHm111=numpy.append(NHm111, numpy.linspace(0.001,0.01,2000))\n",
    "NHm111=numpy.append(NHm111, numpy.linspace(0.01,0.1,2000))\n",
    "NHm111=numpy.append(NHm111, numpy.linspace(0.1,1,2000))\n",
    "NHm111=numpy.append(NHm111, numpy.linspace(1,10,2000))\n",
    "\n",
    "maxNHm222=(NHm111**2+maxsolarmass)**(1/2)\n",
    "NHm222=(NHm111**2+solarmass)**(1/2)\n",
    "minNHm222=(NHm111**2+minsolarmass)**(1/2)\n",
    "\n",
    "maxNHm333=(NHm111**2+maxatmmass)**(1/2)\n",
    "NHm333=(NHm111**2+atmmass)**(1/2)\n",
    "minNHm333=(NHm111**2+minatmmass)**(1/2)\n",
    "\n",
    "\n",
    "\n",
    "IHm333=numpy.linspace(0.0001,0.001,2000) \n",
    "IHm333=numpy.append(IHm333, numpy.linspace(0.001,0.01,2000))\n",
    "IHm333=numpy.append(IHm333, numpy.linspace(0.01,0.1,2000))\n",
    "IHm333=numpy.append(IHm333, numpy.linspace(0.1,1,2000))\n",
    "IHm333=numpy.append(IHm333, numpy.linspace(1,10,2000))\n",
    "\n",
    "maxIHm222=(IHm333**2+maxIsolarmass+maxIatmmass)**(1/2)\n",
    "IHm222=(IHm333**2+Isolarmass+Iatmmass)**(1/2)\n",
    "minIHm222=(IHm333**2+minIsolarmass+minIatmmass)**(1/2)\n",
    "\n",
    "maxIHm111=(IHm333**2+maxIatmmass)**(1/2)\n",
    "IHm111=(IHm333**2+Iatmmass)**(1/2)\n",
    "minIHm111=(IHm333**2+minIatmmass)**(1/2)"
   ]
  },
  {
   "cell_type": "markdown",
   "id": "16e25b47",
   "metadata": {},
   "source": [
    "## Plot generator"
   ]
  },
  {
   "cell_type": "markdown",
   "id": "3a2563b0",
   "metadata": {},
   "source": [
    "This is the most important part of the code, on this cell is located the original $\\langle{m_{ee}}\\rangle$ formula and is written in terms of $m_{light}$ that is $m_{1}$ for NH and $m_{3}$ for IH, since there are infinite many possible combinations of parameters $\\phi_{12}$, $\\phi_{13}$, $\\phi_{14}$ (equation 6 of the technical note), instead of running a code with infinite many curves, the code will just plug the curves that will bound all the possible angle combinations and fill the space between each curve to optimize compilation time and computer resources, the angles that created the boundaries were calculated previously using an optimization method (details and other equations used are located at the technical note). \n",
    "\n",
    "Note, these cells also include a lobster plot for 3 neutrinos with its best fit values to make a comparison to the new 1+3 neutrino plot."
   ]
  },
  {
   "cell_type": "code",
   "execution_count": 7,
   "id": "b8c6eb32",
   "metadata": {},
   "outputs": [
    {
     "data": {
      "image/png": "[encoded data removed]",
      "text/plain": [
       "<Figure size 648x432 with 1 Axes>"
      ]
     },
     "metadata": {
      "needs_background": "light"
     },
     "output_type": "display_data"
    }
   ],
   "source": [
    "plt.figure(figsize=(9,6))\n",
    "\n",
    "NHmee1=abs(NHc12*NHc13*NHm111 - NHs12*NHc13*NHm222 + NHs13*NHm333)                           \n",
    "NHmee2=abs(NHc12*NHc13*NHm111 + NHs12*NHc13*NHm222 + NHs13*NHm333)\n",
    "NHmee3=abs(NHc12*NHc13*NHm111 - NHs12*NHc13*NHm222 - NHs13*NHm333)\n",
    "\n",
    "NHm1filt1=NHm111[NHm111<0.0024]\n",
    "NHm1filt3=NHm111[NHm111>0.0065]\n",
    "NHmee1filt1=NHmee1[NHm111<0.0024]\n",
    "NHmee3filt3=NHmee3[NHm111>0.0065]\n",
    "\n",
    "pylab.plot(NHm1filt1,NHmee1filt1,color=\"black\",label=\"(3) Best fit NH\",linestyle=\"-\",linewidth=2, alpha=1,zorder=14)\n",
    "pylab.plot(NHm111,NHmee2,color=\"black\",linestyle=\"-\",linewidth=2, alpha=1,zorder=14)\n",
    "pylab.plot(NHm1filt3,NHmee3filt3,color=\"black\",linestyle=\"-\",linewidth=2, alpha=1,zorder=14)\n",
    "\n",
    "\n",
    "\n",
    "NHmee11=abs(NHc12*NHc13*NHc14*NHm1 + \n",
    "                  NHs12*NHc13*NHc14*NHm2*cmath.exp(complex(0,0)) + \n",
    "                  NHs13*NHm3*NHc14*cmath.exp(complex(0,0)) + \n",
    "                  NHs14*NHm4*cmath.exp(complex(0,0))) #All masses different, 0,0,0 (in terms of pi)\n",
    "\n",
    "NHmee12=abs(NHc12*NHc13*NHc14*NHm1 + \n",
    "                  NHs12*NHc13*NHc14*NHm2*cmath.exp(complex(0,numpy.pi)) + \n",
    "                  NHs13*NHm3*NHc14*cmath.exp(complex(0,numpy.pi)) + \n",
    "                  NHs14*NHm4*cmath.exp(complex(0,numpy.pi))) #All masses different, 1,1,1 (in terms of pi)\n",
    "\n",
    "\n",
    "\n",
    "maxNHmee11=abs(minNHc12*minNHc13*minNHc14*NHm1 + \n",
    "                  maxNHs12*minNHc13*minNHc14*maxNHm2*cmath.exp(complex(0,0)) + \n",
    "                  maxNHs13*maxNHm3*minNHc14*cmath.exp(complex(0,0)) + \n",
    "                  maxNHs14*maxNHm4*cmath.exp(complex(0,0))) #All masses different, 0,0,0 (in terms of pi)\n",
    "\n",
    "maxNHmee12=abs(minNHc12*minNHc13*minNHc14*NHm1 + \n",
    "                  maxNHs12*minNHc13*minNHc14*maxNHm2*cmath.exp(complex(0,numpy.pi)) + \n",
    "                  maxNHs13*maxNHm3*minNHc14*cmath.exp(complex(0,numpy.pi)) + \n",
    "                  maxNHs14*maxNHm4*cmath.exp(complex(0,numpy.pi))) #All masses different, 1,1,1 (in terms of pi)\n",
    "\n",
    "#pylab.plot(NHm1,NHmee11,color=\"blakc\",linestyle=\"--\",linewidth=2, alpha=1,zorder=14)\n",
    "#pylab.plot(NHm1,NHmee12,color=\"blue\",linestyle=\"--\",linewidth=2, alpha=1,zorder=14)\n",
    "\n",
    "#pylab.plot(NHm1,maxNHmee11,color=\"black\",linestyle=\"-\",linewidth=2, alpha=1,zorder=14)\n",
    "#pylab.plot(NHm1,maxNHmee12,color=\"blue\",linestyle=\"-\",linewidth=2, alpha=1,zorder=14)\n",
    "\n",
    "plt.fill_between(NHm1, NHmee11, NHmee12, color=\"blue\",label=\"(3+1) Best Fit NH\",alpha=1,zorder=13)\n",
    "plt.fill_between(NHm1, maxNHmee11, maxNHmee12, color=\"navy\",label=\"(3+1) 3$\\sigma$ NH\",alpha=1,zorder=12)\n",
    "\n",
    "plt.xscale(\"log\")\n",
    "plt.yscale(\"log\")\n",
    "\n",
    "plt.xlim(0.0001,10)\n",
    "plt.ylim(0.0001,10)\n",
    "plt.tight_layout()\n",
    "plt.title(\"Normal ordering\", fontsize=18)\n",
    "pylab.xlabel(\"$m_{light}$ in eV\",fontsize=16)\n",
    "pylab.ylabel(\"$m_{ee}$ in eV\",fontsize=16)\n",
    "pylab.legend(fontsize=10,loc=2)\n",
    "pylab.show()"
   ]
  },
  {
   "cell_type": "code",
   "execution_count": 8,
   "id": "ca3090a4",
   "metadata": {},
   "outputs": [
    {
     "data": {
      "image/png": "[encoded data removed]",
      "text/plain": [
       "<Figure size 648x432 with 1 Axes>"
      ]
     },
     "metadata": {
      "needs_background": "light"
     },
     "output_type": "display_data"
    }
   ],
   "source": [
    "plt.figure(figsize=(9,6))\n",
    "\n",
    "IHmee1=abs(IHc12*IHc13*IHm111 + IHs12*IHc13*IHm222 + IHs13*IHm333)\n",
    "IHmee2=abs(IHc12*IHc13*IHm111 - IHs12*IHc13*IHm222 - IHs13*IHm333)\n",
    "\n",
    "pylab.plot(IHm333,IHmee1,color=\"black\",label=\"(3) Best fit IH\",linestyle=\"-\",linewidth=2, alpha=1,zorder=12)\n",
    "pylab.plot(IHm333,IHmee2,color=\"black\",linestyle=\"-\",linewidth=2, alpha=1,zorder=12)\n",
    "\n",
    "IHmee11=abs(IHc12*IHc13*IHc14*IHm1 + \n",
    "                  IHs12*IHc13*IHc14*IHm2*cmath.exp(complex(0,0)) + \n",
    "                  IHs13*IHm3*IHc14*cmath.exp(complex(0,0)) + \n",
    "                  IHs14*IHm4*cmath.exp(complex(0,0))) #All masses different, 0,0,0 (in terms of pi)#\n",
    "\n",
    "IHmee12=abs(IHc12*IHc13*IHc14*IHm1 + \n",
    "                  IHs12*IHc13*IHc14*IHm2*cmath.exp(complex(0,numpy.pi)) + \n",
    "                  IHs13*IHm3*IHc14*cmath.exp(complex(0,numpy.pi)) + \n",
    "                  IHs14*IHm4*cmath.exp(complex(0,numpy.pi))) #All masses different, 1,1,1 (in terms of pi)\n",
    "\n",
    "maxIHmee11=abs(minIHc12*minIHc13*minIHc14*maxIHm1 + \n",
    "                  maxIHs12*minIHc13*minIHc14*maxIHm2*cmath.exp(complex(0,0)) + \n",
    "                  maxIHs13*IHm3*minIHc14*cmath.exp(complex(0,0)) + \n",
    "                  maxIHs14*maxIHm4*cmath.exp(complex(0,0))) #All masses different, 0,0,0 (in terms of pi)#\n",
    "\n",
    "maxIHmee12=abs(minIHc12*minIHc13*minIHc14*maxIHm1 + \n",
    "                  maxIHs12*minIHc13*minIHc14*maxIHm2*cmath.exp(complex(0,numpy.pi)) + \n",
    "                  maxIHs13*IHm3*minIHc14*cmath.exp(complex(0,numpy.pi)) + \n",
    "                  maxIHs14*maxIHm4*cmath.exp(complex(0,numpy.pi))) #All masses different, 1,1,1 (in terms of pi)\n",
    "\n",
    "#pylab.plot(IHm3, maxIHmee11,color=\"black\",linestyle=\"-\",linewidth=2, alpha=1, zorder=12)\n",
    "#pylab.plot(IHm3, maxIHmee12,color=\"blue\",linestyle=\"-\",linewidth=2, alpha=1, zorder=12)\n",
    "\n",
    "#pylab.plot(IHm3, IHmee11,color=\"black\",linestyle=\"--\",linewidth=2, alpha=1, zorder=13)\n",
    "#pylab.plot(IHm3, IHmee12,color=\"blue\",linestyle=\"--\",linewidth=2, alpha=1, zorder=13)\n",
    "\n",
    "plt.fill_between(IHm3, maxIHmee11, maxIHmee12, color=\"orange\",label=\"(3+1) +3$\\sigma$ IH\",alpha=1,zorder=11)\n",
    "plt.fill_between(IHm3, IHmee11, IHmee12, color=\"yellow\",label=\"(3+1) Best Fit IH\",alpha=1,zorder=11)\n",
    "\n",
    "plt.xscale(\"log\")\n",
    "plt.yscale(\"log\")\n",
    "\n",
    "plt.xlim(0.0001,10)\n",
    "plt.ylim(0.0001,10)\n",
    "plt.tight_layout()\n",
    "plt.title(\"Inverted ordering\", fontsize=18)\n",
    "pylab.xlabel(\"$m_{light}$ in eV\",fontsize=16)\n",
    "pylab.ylabel(\"$m_{ee}$ in eV\",fontsize=16)\n",
    "pylab.legend(fontsize=10,loc=2)\n",
    "pylab.show()"
   ]
  }
 ],
 "metadata": {
  "kernelspec": {
   "display_name": "Python 3 (ipykernel)",
   "language": "python",
   "name": "python3"
  },
  "language_info": {
   "codemirror_mode": {
    "name": "ipython",
    "version": 3
   },
   "file_extension": ".py",
   "mimetype": "text/x-python",
   "name": "python",
   "nbconvert_exporter": "python",
   "pygments_lexer": "ipython3",
   "version": "3.9.7"
  }
 },
 "nbformat": 4,
 "nbformat_minor": 5
}
